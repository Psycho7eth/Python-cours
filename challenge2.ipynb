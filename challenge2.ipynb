{
 "cells": [
  {
   "cell_type": "markdown",
   "metadata": {},
   "source": [
    "Exercise 1: List Operations\n",
    "\n",
    "Create a list of your favorite fruits.\n",
    "Add a new fruit to the list.\n",
    "Remove a fruit from the list.\n",
    "Sort the list in alphabetical order.\n",
    "Print the list.\n",
    "\n",
    "Exercise 2: Dictionary Manipulation\n",
    "\n",
    "Create a dictionary representing a person with keys like \"name,\" \"age,\" and \"city.\"\n",
    "Add a new key-value pair to the dictionary.\n",
    "Update one of the values in the dictionary.\n",
    "Print the updated dictionary.\n",
    "\n",
    "Exercise 3: Set Operations\n",
    "\n",
    "Create two sets of integers.\n",
    "Find the intersection and union of these sets.\n",
    "Print the results.\n",
    "\n",
    "Exercise 4: Linear Search\n",
    "\n",
    "Create a list of numbers.\n",
    "Implement a linear search algorithm to find a specific number in the list.\n",
    "Print whether the number was found and its index."
   ]
  },
  {
   "cell_type": "code",
   "execution_count": 1,
   "metadata": {},
   "outputs": [],
   "source": [
    "list = [\"Mangue\",\"Banane\",\"Fraise\",\"Ananas\"]"
   ]
  },
  {
   "cell_type": "code",
   "execution_count": 2,
   "metadata": {},
   "outputs": [],
   "source": [
    "list.append(\"Orange\")"
   ]
  },
  {
   "cell_type": "code",
   "execution_count": 4,
   "metadata": {},
   "outputs": [
    {
     "data": {
      "text/plain": [
       "'Orange'"
      ]
     },
     "execution_count": 4,
     "metadata": {},
     "output_type": "execute_result"
    }
   ],
   "source": [
    "list.pop(\n",
    ")"
   ]
  },
  {
   "cell_type": "code",
   "execution_count": 12,
   "metadata": {},
   "outputs": [],
   "source": [
    "list.sort()"
   ]
  },
  {
   "cell_type": "code",
   "execution_count": 13,
   "metadata": {},
   "outputs": [
    {
     "data": {
      "text/plain": [
       "['Banane', 'Fraise', 'Mangue']"
      ]
     },
     "execution_count": 13,
     "metadata": {},
     "output_type": "execute_result"
    }
   ],
   "source": [
    "list"
   ]
  },
  {
   "cell_type": "code",
   "execution_count": 6,
   "metadata": {},
   "outputs": [],
   "source": [
    "Person ={\n",
    "    'name': \"Ahmed\",\n",
    "    'age': \"41\",\n",
    "    'city':\"Boumerdes\",\n",
    "}"
   ]
  },
  {
   "cell_type": "code",
   "execution_count": 7,
   "metadata": {},
   "outputs": [],
   "source": [
    "Person.update({\"Country\":\"Algerie\"})"
   ]
  },
  {
   "cell_type": "code",
   "execution_count": 9,
   "metadata": {},
   "outputs": [],
   "source": [
    "Person.update({\"city\":\"Alger\"})"
   ]
  },
  {
   "cell_type": "code",
   "execution_count": 10,
   "metadata": {},
   "outputs": [
    {
     "data": {
      "text/plain": [
       "{'name': 'Ahmed', 'age': '41', 'city': 'Alger', 'Country': 'Algerie'}"
      ]
     },
     "execution_count": 10,
     "metadata": {},
     "output_type": "execute_result"
    }
   ],
   "source": [
    "Person"
   ]
  },
  {
   "cell_type": "code",
   "execution_count": 16,
   "metadata": {},
   "outputs": [],
   "source": [
    "set1 = {10,20,30,40,50}\n",
    "\n",
    "set2= {60,70,10,30,40,80,20,50,100} \n"
   ]
  },
  {
   "cell_type": "code",
   "execution_count": 17,
   "metadata": {},
   "outputs": [],
   "source": [
    "# Find the intersection and union of these sets.\n",
    "\n",
    "intersection = set1.intersection(set2) #intersection\n",
    "\n",
    "\n",
    "union = set1.union(set2) # union"
   ]
  },
  {
   "cell_type": "code",
   "execution_count": 18,
   "metadata": {},
   "outputs": [
    {
     "name": "stdout",
     "output_type": "stream",
     "text": [
      "Intersection of the sets: {40, 10, 50, 20, 30}\n",
      "Union of the sets: {100, 70, 40, 10, 80, 50, 20, 60, 30}\n"
     ]
    }
   ],
   "source": [
    "print(\"Intersection of the sets:\", intersection)\n",
    "print(\"Union of the sets:\", union)"
   ]
  },
  {
   "cell_type": "code",
   "execution_count": 24,
   "metadata": {},
   "outputs": [
    {
     "name": "stdout",
     "output_type": "stream",
     "text": [
      "Number is at index  4\n"
     ]
    }
   ],
   "source": [
    "\n",
    "# Create a list of numbers.\n",
    "# Implement a linear search algorithm to find a specific number in the list.\n",
    "# Print whether the number was found and its index.\n",
    "\n",
    "numbers =[1,2,3,4,5,6,7,8,9,10]\n",
    "\n",
    "def linear_search(number,target):\n",
    "    for i in range(len(numbers)):\n",
    "        if numbers[i] == target:\n",
    "            return True, i\n",
    "    return False,\n",
    "\n",
    "result,index=linear_search(numbers, 5)\n",
    "\n",
    "if result==True:\n",
    "    \n",
    "    print(\"Number is at index \" ,index)\n",
    "else:\n",
    "    print(\"Number not found\")"
   ]
  },
  {
   "cell_type": "code",
   "execution_count": 29,
   "metadata": {},
   "outputs": [
    {
     "data": {
      "text/plain": [
       "21"
      ]
     },
     "execution_count": 29,
     "metadata": {},
     "output_type": "execute_result"
    }
   ],
   "source": [
    "#fonction recuirsive pour calculer la valeur fibonnacci\n",
    "\n",
    "def fibonacci(n): \n",
    "    if n in [0,1]:\n",
    "       return 1\n",
    "    else:\n",
    "        n>1\n",
    "        return fibonacci(n-1) + fibonacci(n-2)\n",
    "fibonacci(7)"
   ]
  }
 ],
 "metadata": {
  "kernelspec": {
   "display_name": "Python 3",
   "language": "python",
   "name": "python3"
  },
  "language_info": {
   "codemirror_mode": {
    "name": "ipython",
    "version": 3
   },
   "file_extension": ".py",
   "mimetype": "text/x-python",
   "name": "python",
   "nbconvert_exporter": "python",
   "pygments_lexer": "ipython3",
   "version": "3.12.1"
  }
 },
 "nbformat": 4,
 "nbformat_minor": 2
}
