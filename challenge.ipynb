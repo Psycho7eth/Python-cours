{
 "cells": [
  {
   "cell_type": "code",
   "execution_count": 18,
   "metadata": {},
   "outputs": [
    {
     "name": "stdout",
     "output_type": "stream",
     "text": [
      "x is greater than y.\n"
     ]
    }
   ],
   "source": [
    "\n",
    "x = 5\n",
    "y = 10\n",
    "\n",
    "x = x + y\n",
    "y = x - y\n",
    "x = x - y\n",
    "\n",
    "if x > y:\n",
    "    print(\"x is greater than y.\")\n",
    "elif x < y:\n",
    "    print(\"x is less than y.\")\n",
    "else:\n",
    "    print(\"x and y are equal.\")"
   ]
  },
  {
   "cell_type": "code",
   "execution_count": 7,
   "metadata": {},
   "outputs": [
    {
     "name": "stdout",
     "output_type": "stream",
     "text": [
      "Menu:\n",
      "1. Add num1 and num2\n",
      "2. Subtract num2 from num1\n",
      "3. Multiply num1 and num2\n",
      "4. Divide num1 by num2\n",
      "5. Exit the program\n",
      "Invalid choice. Please try again.\n",
      "Menu:\n",
      "1. Add num1 and num2\n",
      "2. Subtract num2 from num1\n",
      "3. Multiply num1 and num2\n",
      "4. Divide num1 by num2\n",
      "5. Exit the program\n",
      "Result: 30.0\n",
      "Exiting the program.\n"
     ]
    }
   ],
   "source": [
    "\n",
    "def add(num1,num2):\n",
    "    return num1 + num2\n",
    "\n",
    "def subtract(num1,num2):\n",
    "    if num2 > num1:\n",
    "        print(\"Error: num2 cannot be greater than num1 for subtraction.\")\n",
    "        return None\n",
    "    return num1 - num2\n",
    "\n",
    "def multiply(num1,num2):\n",
    "    return num1 * num2\n",
    "\n",
    "def divide(num1,num2):\n",
    "    if num2 == 0:\n",
    "        print(\"Error: Division by zero is not allowed.\")\n",
    "        return None\n",
    "    return num1 / num2\n",
    "\n",
    "def menu():\n",
    "    print(\"Menu:\")\n",
    "    print(\"1. Add num1 and num2\")\n",
    "    print(\"2. Subtract num2 from num1\")\n",
    "    print(\"3. Multiply num1 and num2\")\n",
    "    print(\"4. Divide num1 by num2\")\n",
    "    print(\"5. Exit the program\")\n",
    "\n",
    "num1 = float(input(\"Enter the first number: \"))\n",
    "num2 = float(input(\"Enter the second number: \"))\n",
    "\n",
    "menu()\n",
    "\n",
    "while True:\n",
    "    \n",
    "    choice = input(\"Enter your choice: \")\n",
    "    if choice == '1':\n",
    "        result = add(num1,num2)\n",
    "        if result is not None:\n",
    "            print(f\"Result: {result}\")\n",
    "    elif choice == '2':\n",
    "        result = subtract()\n",
    "        if result is not None:\n",
    "            print(f\"Result: {result}\")\n",
    "    elif choice == '3':\n",
    "        result = multiply(num1,num2)\n",
    "        print(f\"Result: {result}\")\n",
    "    elif choice == '4':\n",
    "        result = divide(num1,num2)\n",
    "        if result is not None:\n",
    "            print(f\"Result: {result}\")\n",
    "    elif choice == '5':\n",
    "        print(\"Exiting the program.\")\n",
    "        break\n",
    "    else:\n",
    "        print(\"Invalid choice. Please try again.\")\n",
    "        menu()\n",
    "\n"
   ]
  },
  {
   "cell_type": "code",
   "execution_count": 1,
   "metadata": {},
   "outputs": [
    {
     "name": "stdout",
     "output_type": "stream",
     "text": [
      "Enter '1' to convert the temperature from Celsius to Fahrenheit.\n",
      "Enter '2' to convert the temperature from Celsius to Kelvin.\n",
      "Enter '3' to exit the program.\n",
      "The temperature in Fahrenheit is: 73.4\n",
      "Enter '1' to convert the temperature from Celsius to Fahrenheit.\n",
      "Enter '2' to convert the temperature from Celsius to Kelvin.\n",
      "Enter '3' to exit the program.\n",
      "Exiting the program...\n"
     ]
    }
   ],
   "source": [
    "def celsius_to_fahrenheit(celsius):\n",
    "    return (celsius * 9/5) + 32\n",
    "\n",
    "def celsius_to_kelvin(celsius):\n",
    "    return celsius + 273.15\n",
    "\n",
    "while True:\n",
    "        print(\"Enter '1' to convert the temperature from Celsius to Fahrenheit.\")\n",
    "        print(\"Enter '2' to convert the temperature from Celsius to Kelvin.\")\n",
    "        print(\"Enter '3' to exit the program.\")\n",
    "\n",
    "        choice = input(\"Enter your choice: \")\n",
    "\n",
    "        if choice == '1':\n",
    "            temperature = float(input(\"Enter the temperature in Celsius: \"))\n",
    "            fahrenheit = celsius_to_fahrenheit(temperature)\n",
    "            print(\"The temperature in Fahrenheit is:\", fahrenheit)\n",
    "        elif choice == '2':\n",
    "            temperature = float(input(\"Enter the temperature in Celsius: \"))\n",
    "            kelvin = celsius_to_kelvin(temperature)\n",
    "            print(\"The temperature in Kelvin is:\", kelvin)\n",
    "        elif choice == '3':\n",
    "            print(\"Exiting the program...\")\n",
    "            break\n",
    "        else:\n",
    "            print(\"Invalid choice. Please try again.\")\n",
    "\n",
    "\n",
    "    "
   ]
  },
  {
   "cell_type": "code",
   "execution_count": 8,
   "metadata": {},
   "outputs": [
    {
     "name": "stdout",
     "output_type": "stream",
     "text": [
      "The number is odd.\n"
     ]
    }
   ],
   "source": [
    "\n",
    "number = 11\n",
    "\n",
    "if number%2 == 0:\n",
    "    print(\"The number is even\")\n",
    "else:\n",
    "    print(\"The number is odd.\")"
   ]
  },
  {
   "cell_type": "code",
   "execution_count": 4,
   "metadata": {},
   "outputs": [
    {
     "name": "stdout",
     "output_type": "stream",
     "text": [
      "Strong Password.\n"
     ]
    }
   ],
   "source": [
    "\n",
    "password = \"password123\"\n",
    "\n",
    "\n",
    "if len(password) >= 8 and any(char.isdigit() for char in password) and any(char.isalpha() for char in password):\n",
    " \n",
    "  print(\"Strong Password.\")\n",
    "else:\n",
    "    print(\"Weak Password.\")"
   ]
  },
  {
   "cell_type": "code",
   "execution_count": 16,
   "metadata": {},
   "outputs": [
    {
     "name": "stdout",
     "output_type": "stream",
     "text": [
      "Le sac contient maintenant 4 billets\n",
      "Le sac contient maintenant 3 billets\n",
      "Le sac contient maintenant 2 billets\n",
      "Le sac contient maintenant 1 billets\n",
      "Le sac contient maintenant 0 billets\n",
      "Le sac est vide\n"
     ]
    }
   ],
   "source": [
    "N=5\n",
    "i=N\n",
    "while (i>0):\n",
    "    i=i-1\n",
    "    print(\"Le sac contient maintenant\",i,\"billets\")\n",
    "else:\n",
    "    print(\"Le sac est vide\")"
   ]
  }
 ],
 "metadata": {
  "kernelspec": {
   "display_name": "Python 3",
   "language": "python",
   "name": "python3"
  },
  "language_info": {
   "codemirror_mode": {
    "name": "ipython",
    "version": 3
   },
   "file_extension": ".py",
   "mimetype": "text/x-python",
   "name": "python",
   "nbconvert_exporter": "python",
   "pygments_lexer": "ipython3",
   "version": "3.12.1"
  }
 },
 "nbformat": 4,
 "nbformat_minor": 2
}
